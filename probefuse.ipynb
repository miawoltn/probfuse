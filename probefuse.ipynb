{
 "cells": [
  {
   "cell_type": "code",
   "execution_count": 1,
   "metadata": {},
   "outputs": [],
   "source": [
    "import csv\n",
    "from pathlib import Path"
   ]
  },
  {
   "cell_type": "code",
   "execution_count": 2,
   "metadata": {},
   "outputs": [],
   "source": [
    "def load_file(filename):\n",
    "    # compile ir queries in a list\n",
    "    file_content = []\n",
    "    try:\n",
    "        with open(filename, newline='') as csvfile:\n",
    "            reader = csv.reader(csvfile, delimiter=',')\n",
    "            for row in reader:\n",
    "                file_content.append(row);\n",
    "        return file_content\n",
    "    except:\n",
    "        print(\"Unable to read file.\")\n",
    "#         exit();"
   ]
  },
  {
   "cell_type": "code",
   "execution_count": 3,
   "metadata": {},
   "outputs": [],
   "source": [
    "def read_ir_queries(hr_results): \n",
    "    ir_a = list()\n",
    "    ir_b = list()\n",
    "    ir_c = list()\n",
    "    ir_d = list()\n",
    "    for row in hr_results:\n",
    "        if 'A' in row[0]:\n",
    "            ir_a.append(row[1:])\n",
    "        if 'B' in row[0]:\n",
    "            ir_b.append(row[1:])\n",
    "        if 'C' in row[0]:\n",
    "            ir_c.append(row[1:])\n",
    "        if 'D' in row[0]:\n",
    "            ir_d.append(row[1:])\n",
    "    return [ir_a, ir_b, ir_c, ir_d]"
   ]
  },
  {
   "cell_type": "code",
   "execution_count": 4,
   "metadata": {},
   "outputs": [],
   "source": [
    "def get_user_input(message):\n",
    "    return input(message);"
   ]
  },
  {
   "cell_type": "code",
   "execution_count": 5,
   "metadata": {},
   "outputs": [],
   "source": [
    "def get_file_content(filename):\n",
    "    file_path = Path(filename+\".csv\")\n",
    "    if file_path.is_file():\n",
    "        file_content = load_file(file_path.name)\n",
    "        return file_content\n",
    "    else:\n",
    "        raise ValueError()"
   ]
  },
  {
   "cell_type": "code",
   "execution_count": 6,
   "metadata": {},
   "outputs": [],
   "source": [
    "def get_ir_queries():\n",
    "    filename = get_user_input(\"Enter historical result file name: \")\n",
    "    try:\n",
    "        while True:\n",
    "            ir_queries = read_ir_queries(get_file_content(filename)); \n",
    "            return ir_queries\n",
    "    except:\n",
    "        print('can\\'t open '+filename)\n",
    "        get_ir_queries()"
   ]
  },
  {
   "cell_type": "code",
   "execution_count": 7,
   "metadata": {},
   "outputs": [],
   "source": [
    "def get_segment_count():\n",
    "    try:\n",
    "        while True:\n",
    "            segment_count = int(get_user_input(\"Enter number of segments: \"))\n",
    "            return segment_count\n",
    "    except:\n",
    "        print('invalid input')\n",
    "        get_segment_count()"
   ]
  },
  {
   "cell_type": "code",
   "execution_count": 8,
   "metadata": {},
   "outputs": [],
   "source": [
    "def get_results_to_fuse():\n",
    "    ir_dic = {\"A\":1, \"B\":2, \"C\":3, \"D\":4}\n",
    "    results_to_fuse = {}\n",
    "    try:\n",
    "        while True:\n",
    "            irs_to_fuse = get_user_input(\"What result do you want to fuse out? Enter any combination of A, B, C, or D separated by comma: \")\n",
    "            irs = irs_to_fuse.split(\",\")\n",
    "            if(len(irs) < 2):\n",
    "                raise ValueError()\n",
    "            for ir in irs_to_fuse.split(\",\"):\n",
    "                if ir not in ir_dic:\n",
    "                    raise ValueError()\n",
    "                results_to_fuse[ir] = ir_dic.get(ir)\n",
    "            return results_to_fuse\n",
    "    except:\n",
    "        print('invalid input')\n",
    "        get_results_to_fuse()"
   ]
  },
  {
   "cell_type": "code",
   "execution_count": 9,
   "metadata": {},
   "outputs": [],
   "source": [
    "def segment(alist, wanted_parts=1):\n",
    "    length = len(alist)\n",
    "    return [alist[i*length // wanted_parts: (i+1)*length // wanted_parts] \n",
    "             for i in range(wanted_parts) ]"
   ]
  },
  {
   "cell_type": "code",
   "execution_count": 10,
   "metadata": {},
   "outputs": [],
   "source": [
    "# ir queries are read separately per line\n",
    "# this will put similar queries in the same segment in list \n",
    "# in order to calculate their weights\n",
    "def merge_similar_segment_queries(segmented_ir):\n",
    "    ir_seg_dic = {}\n",
    "    for index, segment in enumerate(segmented_ir):\n",
    "        for idx, sub_segment in enumerate(segment):\n",
    "            if idx not in ir_seg_dic:\n",
    "                ir_seg_dic[idx] = list()\n",
    "            ir_seg_dic[idx].append(sub_segment)\n",
    "    return ir_seg_dic"
   ]
  },
  {
   "cell_type": "code",
   "execution_count": 11,
   "metadata": {},
   "outputs": [],
   "source": [
    "def get_segment_weight(segment, segment_number):\n",
    "    query_count = 0\n",
    "    query_probability = []\n",
    "    for query in segment:\n",
    "        query_count += 1\n",
    "        relevant_query_count = query.count('R')\n",
    "        relevant_query_probability = round(relevant_query_count/len(query),1)\n",
    "        query_probability.append(relevant_query_probability)\n",
    "    segment_probability = round(sum(query_probability)/query_count, 1)   \n",
    "    segment_weight = segment_probability/segment_number\n",
    "    return segment_weight"
   ]
  },
  {
   "cell_type": "code",
   "execution_count": 12,
   "metadata": {},
   "outputs": [],
   "source": [
    "# segment subqueries for a specific ir \n",
    "# eg IR A1, A2,...\n",
    "def segment_ir_subqueries(ir_sub_queries):\n",
    "    ir_segmented_subquery = []\n",
    "    for query in ir_sub_queries:\n",
    "        ir_segmented_subquery.append(segment(query, seg_count))\n",
    "    return ir_segmented_subquery"
   ]
  },
  {
   "cell_type": "code",
   "execution_count": 13,
   "metadata": {},
   "outputs": [],
   "source": [
    "# goes through all the irs and segment their queries\n",
    "# eg. IR A, B, C,...\n",
    "def segment_ir_queries(ir_queries):\n",
    "    ir_segmented_queries = []\n",
    "    for ir_sub_query in ir_queries:\n",
    "        ir_segmented_queries.append(segment_ir_subqueries(ir_sub_query))\n",
    "    return ir_segmented_queries"
   ]
  },
  {
   "cell_type": "code",
   "execution_count": 14,
   "metadata": {},
   "outputs": [],
   "source": [
    "def merge_ir_segments(ir_segmented_queries):\n",
    "    merged_ir_segments = []\n",
    "    for ir_seg_query in ir_segmented_queries:\n",
    "        merged_ir_segments.append(merge_similar_segment_queries(ir_seg_query))\n",
    "    return merged_ir_segments"
   ]
  },
  {
   "cell_type": "code",
   "execution_count": 15,
   "metadata": {},
   "outputs": [],
   "source": [
    "def get_ir_segments_weight(merged_ir_segment):    \n",
    "    ir_seg_weight_dic = {}\n",
    "    precision = 1\n",
    "    for key in merged_ir_segment:\n",
    "        ir_seg_weight_dic[key] = round(get_segment_weight(merged_ir_segment[key], key+1), precision)\n",
    "    return ir_seg_weight_dic"
   ]
  },
  {
   "cell_type": "code",
   "execution_count": 16,
   "metadata": {},
   "outputs": [],
   "source": [
    "def get_ir_segment_weights(merged_ir_segments): \n",
    "    ir_segment_weights = []\n",
    "    for merged_ir_segment in merged_ir_segments:\n",
    "        ir_segment_weights.append(get_ir_segments_weight(merged_ir_segment))\n",
    "    return ir_segment_weights"
   ]
  },
  {
   "cell_type": "code",
   "execution_count": 17,
   "metadata": {},
   "outputs": [],
   "source": [
    "def read_liveresults(liveresults):  \n",
    "    lr_a = []\n",
    "    lr_b = []\n",
    "    lr_c = []\n",
    "    lr_d = []\n",
    "#     try:\n",
    "    for row in liveresults:\n",
    "        if 'A' in row[0]:\n",
    "            lr_a = (row[1:])\n",
    "        if 'B' in row[0]:\n",
    "            lr_b = (row[1:])\n",
    "        if 'C' in row[0]:\n",
    "            lr_c = (row[1:])\n",
    "        if 'D' in row[0]:\n",
    "            lr_d = (row[1:])\n",
    "    return [lr_a, lr_b, lr_c, lr_d]\n",
    "#     except:\n",
    "#         print('unable to get Liveresults content')"
   ]
  },
  {
   "cell_type": "code",
   "execution_count": 18,
   "metadata": {},
   "outputs": [],
   "source": [
    "def get_liveresults():\n",
    "    filename = get_user_input(\"Enter live result file name: \")\n",
    "    try:\n",
    "        while True:\n",
    "            liveresults = read_liveresults(get_file_content(filename)); \n",
    "            return liveresults\n",
    "    except:\n",
    "        get_liveresults()"
   ]
  },
  {
   "cell_type": "code",
   "execution_count": 19,
   "metadata": {},
   "outputs": [],
   "source": [
    "\n",
    "def weight_liveresults(liveresults, results_to_fuse):\n",
    "    liveresults_rating = []\n",
    "    for index, liveresult in enumerate(liveresults):\n",
    "        if index+1 not in results_to_fuse.values(): # only fuse results specified by user\n",
    "            continue\n",
    "        liveresults_dic = {}\n",
    "        length = len(liveresult)\n",
    "        batch_size = length//seg_count\n",
    "        # loop results in batches to apply weights\n",
    "        for i in range(0, length, batch_size): \n",
    "            batch = liveresult[i:i+batch_size]\n",
    "            ir_weight = ir_weights[index] # get segment weights\n",
    "            for indx, doc in enumerate(batch):\n",
    "                liveresults_dic[doc] = ir_weight.get(i%4)\n",
    "        liveresults_rating.append(liveresults_dic)\n",
    "    return liveresults_rating"
   ]
  },
  {
   "cell_type": "code",
   "execution_count": 20,
   "metadata": {},
   "outputs": [],
   "source": [
    "def fuse_liveresult(weighted_liveresult):\n",
    "    ranking_table = {}\n",
    "    for index, weighted_liveresult in enumerate(weighted_liveresults):\n",
    "        for key in weighted_liveresult:\n",
    "            if key in ranking_table:\n",
    "                ranking_table[key] = ranking_table.get(key) + weighted_liveresult.get(key)\n",
    "            else:\n",
    "                ranking_table[key] = weighted_liveresult.get(key)\n",
    "    ranking_table = dict(sorted(ranking_table.items(), key=lambda item: item[1], reverse=True))\n",
    "    return ranking_table"
   ]
  },
  {
   "cell_type": "code",
   "execution_count": 21,
   "metadata": {},
   "outputs": [],
   "source": [
    "def save_results():\n",
    "    with open('result.csv', 'w') as csv_file:  \n",
    "        writer = csv.writer(csv_file)\n",
    "        for key, value in fused_result.items():\n",
    "            writer.writerow([key, value])\n",
    "    print('result.csv saved.')"
   ]
  },
  {
   "cell_type": "code",
   "execution_count": 22,
   "metadata": {},
   "outputs": [
    {
     "name": "stdout",
     "output_type": "stream",
     "text": [
      "Enter historical result file name: HResults\n"
     ]
    }
   ],
   "source": [
    "ir_queries = get_ir_queries()"
   ]
  },
  {
   "cell_type": "code",
   "execution_count": 23,
   "metadata": {},
   "outputs": [
    {
     "name": "stdout",
     "output_type": "stream",
     "text": [
      "Enter number of segments: 3\n"
     ]
    }
   ],
   "source": [
    "seg_count = get_segment_count()"
   ]
  },
  {
   "cell_type": "code",
   "execution_count": 24,
   "metadata": {},
   "outputs": [
    {
     "name": "stdout",
     "output_type": "stream",
     "text": [
      "What result do you want to fuse out? Enter any combination of A, B, C, or D separated by comma: A,B,C,D\n"
     ]
    },
    {
     "data": {
      "text/plain": [
       "{'A': 1, 'B': 2, 'C': 3, 'D': 4}"
      ]
     },
     "execution_count": 24,
     "metadata": {},
     "output_type": "execute_result"
    }
   ],
   "source": [
    "results_to_fuse = get_results_to_fuse()\n",
    "results_to_fuse"
   ]
  },
  {
   "cell_type": "code",
   "execution_count": 25,
   "metadata": {},
   "outputs": [],
   "source": [
    "ir_segmented_queries = segment_ir_queries(ir_queries)"
   ]
  },
  {
   "cell_type": "code",
   "execution_count": 26,
   "metadata": {},
   "outputs": [],
   "source": [
    "merged_ir_segments = merge_ir_segments(ir_segmented_queries)"
   ]
  },
  {
   "cell_type": "code",
   "execution_count": 27,
   "metadata": {},
   "outputs": [],
   "source": [
    "ir_weights = get_ir_segment_weights(merged_ir_segments)"
   ]
  },
  {
   "cell_type": "code",
   "execution_count": 28,
   "metadata": {},
   "outputs": [
    {
     "name": "stdout",
     "output_type": "stream",
     "text": [
      "Enter live result file name: Liveresults\n"
     ]
    }
   ],
   "source": [
    "liveresults = get_liveresults()"
   ]
  },
  {
   "cell_type": "code",
   "execution_count": 29,
   "metadata": {},
   "outputs": [],
   "source": [
    "weighted_liveresults = weight_liveresults(liveresults, results_to_fuse)"
   ]
  },
  {
   "cell_type": "code",
   "execution_count": 30,
   "metadata": {},
   "outputs": [],
   "source": [
    "fused_result = fuse_liveresult(weighted_liveresults)"
   ]
  },
  {
   "cell_type": "code",
   "execution_count": 31,
   "metadata": {},
   "outputs": [
    {
     "name": "stdout",
     "output_type": "stream",
     "text": [
      "result.csv saved.\n"
     ]
    }
   ],
   "source": [
    "save_results()"
   ]
  },
  {
   "cell_type": "code",
   "execution_count": null,
   "metadata": {},
   "outputs": [],
   "source": []
  }
 ],
 "metadata": {
  "kernelspec": {
   "display_name": "Python 3",
   "language": "python",
   "name": "python3"
  },
  "language_info": {
   "codemirror_mode": {
    "name": "ipython",
    "version": 3
   },
   "file_extension": ".py",
   "mimetype": "text/x-python",
   "name": "python",
   "nbconvert_exporter": "python",
   "pygments_lexer": "ipython3",
   "version": "3.7.6"
  }
 },
 "nbformat": 4,
 "nbformat_minor": 4
}
